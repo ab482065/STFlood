{
 "cells": [
  {
   "cell_type": "code",
   "execution_count": 1,
   "metadata": {},
   "outputs": [],
   "source": [
    "import streamlit as st\n",
    "import leafmap.foliumap as leafmap"
   ]
  },
  {
   "cell_type": "code",
   "execution_count": 3,
   "metadata": {},
   "outputs": [
    {
     "ename": "RuntimeError",
     "evalue": "generator didn't yield",
     "output_type": "error",
     "traceback": [
      "\u001b[1;31m---------------------------------------------------------------------------\u001b[0m",
      "\u001b[1;31mRuntimeError\u001b[0m                              Traceback (most recent call last)",
      "Cell \u001b[1;32mIn[3], line 21\u001b[0m\n\u001b[0;32m     18\u001b[0m st\u001b[39m.\u001b[39mtitle(\u001b[39m\"\u001b[39m\u001b[39mMarker Cluster\u001b[39m\u001b[39m\"\u001b[39m)\n\u001b[0;32m     20\u001b[0m \u001b[39mwith\u001b[39;00m st\u001b[39m.\u001b[39mexpander(\u001b[39m\"\u001b[39m\u001b[39mSee source code\u001b[39m\u001b[39m\"\u001b[39m):\n\u001b[1;32m---> 21\u001b[0m     \u001b[39mwith\u001b[39;00m st\u001b[39m.\u001b[39mecho():\n\u001b[0;32m     23\u001b[0m         m \u001b[39m=\u001b[39m leafmap\u001b[39m.\u001b[39mMap(center\u001b[39m=\u001b[39m[\u001b[39m5\u001b[39m, \u001b[39m-\u001b[39m\u001b[39m100\u001b[39m], zoom\u001b[39m=\u001b[39m\u001b[39m4\u001b[39m)\n\u001b[0;32m     24\u001b[0m         cities \u001b[39m=\u001b[39m \u001b[39m'\u001b[39m\u001b[39mFlood Data Updated Geocoded.csv\u001b[39m\u001b[39m'\u001b[39m\n",
      "File \u001b[1;32mc:\\Users\\Khor Kean Teng\\AppData\\Local\\Programs\\Python\\Python39\\lib\\contextlib.py:119\u001b[0m, in \u001b[0;36m_GeneratorContextManager.__enter__\u001b[1;34m(self)\u001b[0m\n\u001b[0;32m    117\u001b[0m     \u001b[39mreturn\u001b[39;00m \u001b[39mnext\u001b[39m(\u001b[39mself\u001b[39m\u001b[39m.\u001b[39mgen)\n\u001b[0;32m    118\u001b[0m \u001b[39mexcept\u001b[39;00m \u001b[39mStopIteration\u001b[39;00m:\n\u001b[1;32m--> 119\u001b[0m     \u001b[39mraise\u001b[39;00m \u001b[39mRuntimeError\u001b[39;00m(\u001b[39m\"\u001b[39m\u001b[39mgenerator didn\u001b[39m\u001b[39m'\u001b[39m\u001b[39mt yield\u001b[39m\u001b[39m\"\u001b[39m) \u001b[39mfrom\u001b[39;00m \u001b[39mNone\u001b[39m\n",
      "\u001b[1;31mRuntimeError\u001b[0m: generator didn't yield"
     ]
    }
   ],
   "source": [
    "st.set_page_config(layout=\"wide\")\n",
    "\n",
    "st.sidebar.info(\n",
    "    \"\"\"\n",
    "    - Web App URL: <https://streamlit.geemap.org>\n",
    "    - GitHub repository: <https://github.com/giswqs/streamlit-geospatial>\n",
    "    \"\"\"\n",
    ")\n",
    "\n",
    "st.sidebar.title(\"Contact\")\n",
    "st.sidebar.info(\n",
    "    \"\"\"\n",
    "    Qiusheng Wu: <https://wetlands.io>\n",
    "    [GitHub](https://github.com/giswqs) | [Twitter](https://twitter.com/giswqs) | [YouTube](https://www.youtube.com/c/QiushengWu) | [LinkedIn](https://www.linkedin.com/in/qiushengwu)\n",
    "    \"\"\"\n",
    ")\n",
    "\n",
    "st.title(\"Marker Cluster\")\n",
    "\n",
    "with st.expander(\"See source code\"):\n",
    "    with st.echo():\n",
    "\n",
    "        m = leafmap.Map(center=[5, -100], zoom=4)\n",
    "        cities = 'Flood Data Updated Geocoded.csv'\n",
    "        regions = 'countries.geojson'\n",
    "\n",
    "        m.add_geojson(regions)\n",
    "        m.add_points_from_xy(\n",
    "            cities,\n",
    "            x=\"Longitude\",\n",
    "            y=\"Latitude\",\n",
    "            icon_names=['gear', 'map', 'leaf', 'globe'],\n",
    "        )\n",
    "\n",
    "m.to_streamlit(height=700)"
   ]
  }
 ],
 "metadata": {
  "kernelspec": {
   "display_name": "Python 3",
   "language": "python",
   "name": "python3"
  },
  "language_info": {
   "codemirror_mode": {
    "name": "ipython",
    "version": 3
   },
   "file_extension": ".py",
   "mimetype": "text/x-python",
   "name": "python",
   "nbconvert_exporter": "python",
   "pygments_lexer": "ipython3",
   "version": "3.9.5"
  },
  "orig_nbformat": 4
 },
 "nbformat": 4,
 "nbformat_minor": 2
}
