{
 "cells": [
  {
   "cell_type": "markdown",
   "metadata": {},
   "source": [
    "# A program for reverse geocoding - finding address with coordinates\n",
    "\n",
    "- We can do .tail() or .head() to apply to a function to avoid running the whole chunk of the data"
   ]
  },
  {
   "cell_type": "code",
   "execution_count": null,
   "metadata": {},
   "outputs": [],
   "source": [
    "import pandas as pd\n",
    "from geopy.geocoders import Nominatim\n",
    "import geocoder"
   ]
  },
  {
   "cell_type": "code",
   "execution_count": null,
   "metadata": {},
   "outputs": [],
   "source": [
    "data = pd.read_csv('data/all_states_all_years_geocoded.csv')\n",
    "data.head()"
   ]
  },
  {
   "cell_type": "code",
   "execution_count": null,
   "metadata": {},
   "outputs": [],
   "source": [
    "# testing reverse geocode\n",
    "geolocator = Nominatim(user_agent=\"u2004763@siswa.um.edu.my\")\n",
    "location = geolocator.reverse(\"33.76326745, -84.39511726814364\")\n",
    "location.address"
   ]
  },
  {
   "cell_type": "code",
   "execution_count": null,
   "metadata": {},
   "outputs": [],
   "source": [
    "def geo_rev(row):\n",
    "    g = geocoder.osm([row.Latitude, row.Longitude], method='reverse').json\n",
    "    if g:\n",
    "        return g.get('address')\n",
    "    else:\n",
    "        return None\n",
    "\n",
    "# program testing\n",
    "# data['Location Returned'] = data[['Latitude', 'Longitude']].head().apply(geo_rev, axis=1)\n",
    "# data[['Name', 'Location Returned']].head()\n",
    "\n",
    "# for real run\n",
    "data['Location Returned'] = data[['Latitude', 'Longitude']].apply(geo_rev, axis=1)\n",
    "data[['Name', 'Location Returned']].head()"
   ]
  },
  {
   "cell_type": "code",
   "execution_count": null,
   "metadata": {},
   "outputs": [],
   "source": [
    "# export file including NaN for checking\n",
    "data.to_csv('data/all_states_all_years_reverse_coded_nan.csv', index=False)\n",
    "\n",
    "# filter none if available\n",
    "data = data.loc[~np.isnan(data[\"Location Returned\"])]\n",
    "\n",
    "# export csv\n",
    "data.to_csv('data/all_states_all_years_reverse_coded_v1', index=False)"
   ]
  }
 ],
 "metadata": {
  "kernelspec": {
   "display_name": "Python 3",
   "language": "python",
   "name": "python3"
  },
  "language_info": {
   "codemirror_mode": {
    "name": "ipython",
    "version": 3
   },
   "file_extension": ".py",
   "mimetype": "text/x-python",
   "name": "python",
   "nbconvert_exporter": "python",
   "pygments_lexer": "ipython3",
   "version": "3.11.4"
  },
  "orig_nbformat": 4
 },
 "nbformat": 4,
 "nbformat_minor": 2
}
