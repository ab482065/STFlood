{
 "cells": [
  {
   "cell_type": "code",
   "execution_count": 7,
   "metadata": {},
   "outputs": [],
   "source": [
    "import pandas as pd\n",
    "import numpy as np\n",
    "import geopandas as gpd\n",
    "from geopy.geocoders import Nominatim"
   ]
  },
  {
   "cell_type": "code",
   "execution_count": 8,
   "metadata": {},
   "outputs": [
    {
     "data": {
      "text/html": [
       "<div>\n",
       "<style scoped>\n",
       "    .dataframe tbody tr th:only-of-type {\n",
       "        vertical-align: middle;\n",
       "    }\n",
       "\n",
       "    .dataframe tbody tr th {\n",
       "        vertical-align: top;\n",
       "    }\n",
       "\n",
       "    .dataframe thead th {\n",
       "        text-align: right;\n",
       "    }\n",
       "</style>\n",
       "<table border=\"1\" class=\"dataframe\">\n",
       "  <thead>\n",
       "    <tr style=\"text-align: right;\">\n",
       "      <th></th>\n",
       "      <th>Year</th>\n",
       "      <th>State</th>\n",
       "      <th>Place</th>\n",
       "      <th>Name</th>\n",
       "    </tr>\n",
       "  </thead>\n",
       "  <tbody>\n",
       "    <tr>\n",
       "      <th>0</th>\n",
       "      <td>2015</td>\n",
       "      <td>Kelantan</td>\n",
       "      <td>Kuala Krai</td>\n",
       "      <td>Kuala Krai, Kelantan</td>\n",
       "    </tr>\n",
       "    <tr>\n",
       "      <th>1</th>\n",
       "      <td>2015</td>\n",
       "      <td>Kelantan</td>\n",
       "      <td>Manek Urai</td>\n",
       "      <td>Manek Urai, Kelantan</td>\n",
       "    </tr>\n",
       "    <tr>\n",
       "      <th>2</th>\n",
       "      <td>2015</td>\n",
       "      <td>Sabah</td>\n",
       "      <td>Beaufort</td>\n",
       "      <td>Beaufort, Sabah</td>\n",
       "    </tr>\n",
       "    <tr>\n",
       "      <th>3</th>\n",
       "      <td>2015</td>\n",
       "      <td>Sabah</td>\n",
       "      <td>Tenom</td>\n",
       "      <td>Tenom, Sabah</td>\n",
       "    </tr>\n",
       "    <tr>\n",
       "      <th>4</th>\n",
       "      <td>2015</td>\n",
       "      <td>Sabah</td>\n",
       "      <td>Membakut</td>\n",
       "      <td>Membakut, Sabah</td>\n",
       "    </tr>\n",
       "  </tbody>\n",
       "</table>\n",
       "</div>"
      ],
      "text/plain": [
       "   Year     State       Place                  Name\n",
       "0  2015  Kelantan  Kuala Krai  Kuala Krai, Kelantan\n",
       "1  2015  Kelantan  Manek Urai  Manek Urai, Kelantan\n",
       "2  2015     Sabah    Beaufort       Beaufort, Sabah\n",
       "3  2015     Sabah       Tenom          Tenom, Sabah\n",
       "4  2015     Sabah    Membakut       Membakut, Sabah"
      ]
     },
     "execution_count": 8,
     "metadata": {},
     "output_type": "execute_result"
    }
   ],
   "source": [
    "data = pd.read_csv('Flood Data Updated Version 2.csv')\n",
    "data.head()"
   ]
  },
  {
   "cell_type": "code",
   "execution_count": 9,
   "metadata": {},
   "outputs": [
    {
     "name": "stdout",
     "output_type": "stream",
     "text": [
      "1 30m 12.798s N, 103 44m 58.411s E\n",
      "Johor Bahru, Iskandar Malaysia, Johor, 80350, Malaysia\n",
      "Latitude: 1.503555\n",
      "Longitude: 103.7495586\n"
     ]
    }
   ],
   "source": [
    "geolocator = Nominatim(user_agent=\"kaggle_learn\")\n",
    "location = geolocator.geocode(\"Johor Bahru\") # testing\n",
    "\n",
    "print(location.point)\n",
    "print(location.address)\n",
    "\n",
    "# print out longitude and latitude\n",
    "point = location.point\n",
    "print(\"Latitude:\", point.latitude)\n",
    "print(\"Longitude:\", point.longitude)"
   ]
  },
  {
   "cell_type": "code",
   "execution_count": 10,
   "metadata": {},
   "outputs": [
    {
     "name": "stdout",
     "output_type": "stream",
     "text": [
      "97.94238683127571% of addresses were geocoded!\n"
     ]
    }
   ],
   "source": [
    "def my_geocoder(row):\n",
    "    try:\n",
    "        point = geolocator.geocode(row).point\n",
    "        return pd.Series({'Latitude': point.latitude, 'Longitude': point.longitude})\n",
    "    except:\n",
    "        return None\n",
    "\n",
    "data[['Latitude', 'Longitude']] = data.apply(lambda x: my_geocoder(x['Name']), axis=1)\n",
    "\n",
    "print(\"{}% of addresses were geocoded!\".format(\n",
    "    (1 - sum(np.isnan(data[\"Latitude\"])) / len(data)) * 100))"
   ]
  },
  {
   "cell_type": "code",
   "execution_count": 11,
   "metadata": {},
   "outputs": [
    {
     "name": "stderr",
     "output_type": "stream",
     "text": [
      "c:\\Users\\Khor Kean Teng\\AppData\\Local\\Programs\\Python\\Python39\\lib\\site-packages\\pyproj\\crs\\crs.py:141: FutureWarning: '+init=<authority>:<code>' syntax is deprecated. '<authority>:<code>' is the preferred initialization method. When making the change, be mindful of axis order changes: https://pyproj4.github.io/pyproj/stable/gotchas.html#axis-order-changes-in-proj-6\n",
      "  in_crs_string = _prepare_from_proj_string(in_crs_string)\n"
     ]
    },
    {
     "data": {
      "text/html": [
       "<div>\n",
       "<style scoped>\n",
       "    .dataframe tbody tr th:only-of-type {\n",
       "        vertical-align: middle;\n",
       "    }\n",
       "\n",
       "    .dataframe tbody tr th {\n",
       "        vertical-align: top;\n",
       "    }\n",
       "\n",
       "    .dataframe thead th {\n",
       "        text-align: right;\n",
       "    }\n",
       "</style>\n",
       "<table border=\"1\" class=\"dataframe\">\n",
       "  <thead>\n",
       "    <tr style=\"text-align: right;\">\n",
       "      <th></th>\n",
       "      <th>Year</th>\n",
       "      <th>State</th>\n",
       "      <th>Place</th>\n",
       "      <th>Name</th>\n",
       "      <th>Latitude</th>\n",
       "      <th>Longitude</th>\n",
       "      <th>geometry</th>\n",
       "    </tr>\n",
       "  </thead>\n",
       "  <tbody>\n",
       "    <tr>\n",
       "      <th>0</th>\n",
       "      <td>2015</td>\n",
       "      <td>Kelantan</td>\n",
       "      <td>Kuala Krai</td>\n",
       "      <td>Kuala Krai, Kelantan</td>\n",
       "      <td>5.424618</td>\n",
       "      <td>102.152251</td>\n",
       "      <td>POINT (102.15225 5.42462)</td>\n",
       "    </tr>\n",
       "    <tr>\n",
       "      <th>1</th>\n",
       "      <td>2015</td>\n",
       "      <td>Kelantan</td>\n",
       "      <td>Manek Urai</td>\n",
       "      <td>Manek Urai, Kelantan</td>\n",
       "      <td>5.388385</td>\n",
       "      <td>102.233477</td>\n",
       "      <td>POINT (102.23348 5.38838)</td>\n",
       "    </tr>\n",
       "    <tr>\n",
       "      <th>2</th>\n",
       "      <td>2015</td>\n",
       "      <td>Sabah</td>\n",
       "      <td>Beaufort</td>\n",
       "      <td>Beaufort, Sabah</td>\n",
       "      <td>5.345809</td>\n",
       "      <td>115.743874</td>\n",
       "      <td>POINT (115.74387 5.34581)</td>\n",
       "    </tr>\n",
       "    <tr>\n",
       "      <th>3</th>\n",
       "      <td>2015</td>\n",
       "      <td>Sabah</td>\n",
       "      <td>Tenom</td>\n",
       "      <td>Tenom, Sabah</td>\n",
       "      <td>4.910403</td>\n",
       "      <td>115.905095</td>\n",
       "      <td>POINT (115.90510 4.91040)</td>\n",
       "    </tr>\n",
       "    <tr>\n",
       "      <th>4</th>\n",
       "      <td>2015</td>\n",
       "      <td>Sabah</td>\n",
       "      <td>Membakut</td>\n",
       "      <td>Membakut, Sabah</td>\n",
       "      <td>5.475288</td>\n",
       "      <td>115.803470</td>\n",
       "      <td>POINT (115.80347 5.47529)</td>\n",
       "    </tr>\n",
       "  </tbody>\n",
       "</table>\n",
       "</div>"
      ],
      "text/plain": [
       "   Year     State       Place                  Name  Latitude   Longitude  \\\n",
       "0  2015  Kelantan  Kuala Krai  Kuala Krai, Kelantan  5.424618  102.152251   \n",
       "1  2015  Kelantan  Manek Urai  Manek Urai, Kelantan  5.388385  102.233477   \n",
       "2  2015     Sabah    Beaufort       Beaufort, Sabah  5.345809  115.743874   \n",
       "3  2015     Sabah       Tenom          Tenom, Sabah  4.910403  115.905095   \n",
       "4  2015     Sabah    Membakut       Membakut, Sabah  5.475288  115.803470   \n",
       "\n",
       "                    geometry  \n",
       "0  POINT (102.15225 5.42462)  \n",
       "1  POINT (102.23348 5.38838)  \n",
       "2  POINT (115.74387 5.34581)  \n",
       "3  POINT (115.90510 4.91040)  \n",
       "4  POINT (115.80347 5.47529)  "
      ]
     },
     "execution_count": 11,
     "metadata": {},
     "output_type": "execute_result"
    }
   ],
   "source": [
    "# Drop location that were not successfully geocoded\n",
    "data = data.loc[~np.isnan(data[\"Latitude\"])]\n",
    "data = gpd.GeoDataFrame(\n",
    "    data, geometry=gpd.points_from_xy(data.Longitude, data.Latitude))\n",
    "data.crs = {'init': 'epsg:4326'}\n",
    "data.head()"
   ]
  },
  {
   "cell_type": "code",
   "execution_count": 12,
   "metadata": {},
   "outputs": [],
   "source": [
    "# export csv\n",
    "data.to_csv('Flood Data Updated Geocoded.csv', index=False)"
   ]
  }
 ],
 "metadata": {
  "kernelspec": {
   "display_name": "Python 3",
   "language": "python",
   "name": "python3"
  },
  "language_info": {
   "codemirror_mode": {
    "name": "ipython",
    "version": 3
   },
   "file_extension": ".py",
   "mimetype": "text/x-python",
   "name": "python",
   "nbconvert_exporter": "python",
   "pygments_lexer": "ipython3",
   "version": "3.9.5"
  },
  "orig_nbformat": 4
 },
 "nbformat": 4,
 "nbformat_minor": 2
}
